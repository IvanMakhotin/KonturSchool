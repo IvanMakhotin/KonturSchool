{
 "cells": [
  {
   "cell_type": "markdown",
   "metadata": {},
   "source": [
    "**Задача 4**"
   ]
  },
  {
   "cell_type": "code",
   "execution_count": 1,
   "metadata": {
    "collapsed": true
   },
   "outputs": [],
   "source": [
    "import numpy as np\n",
    "from numpy.linalg import inv"
   ]
  },
  {
   "cell_type": "code",
   "execution_count": 2,
   "metadata": {
    "collapsed": false
   },
   "outputs": [],
   "source": [
    "X = np.array([[1,1,1,1], \n",
    "              [0,1,1,1],\n",
    "              [0,0,1,1],\n",
    "              [0,0,0,1],\n",
    "              [0,0,0,1],\n",
    "              [0,0,1,1],\n",
    "              [0,1,1,1],\n",
    "              [1,1,1,1]])\n",
    "\n",
    "a = np.array([[1], [1], [1], [1]])\n",
    "sigma = 1\n",
    "mu = 0\n",
    "\n",
    "def estimate_a(Y):\n",
    "    A = inv(np.dot(np.transpose(X), X))\n",
    "    B = np.dot(np.transpose(X), Y)\n",
    "    return np.dot(A, B)\n",
    "\n",
    "def generate(N):\n",
    "    sample = list()\n",
    "    for i in range(N):\n",
    "        Y = np.transpose(np.dot(X,a)) + np.random.normal(mu, sigma, 8)\n",
    "        Y = np.transpose(Y)\n",
    "        sample.append(Y)\n",
    "    return sample\n",
    "\n",
    "def get_cov_emp(sample, N):\n",
    "    a_emp = np.array([0,0,0,0])\n",
    "    a = np.zeros((4,N))\n",
    "    for j in range(N):\n",
    "        aj = estimate_a(sample[j])\n",
    "        for k in range(4):\n",
    "            a[k][j] = aj[k]\n",
    "            a_emp[k] += a[k][j]\n",
    "    a_emp = (1/float(N))*a_emp\n",
    "    \n",
    "    cov_emp = np.zeros((4,4))\n",
    "    for k in range(4):\n",
    "        for m in range(4):\n",
    "            for i in range(N):\n",
    "                cov_emp[k][m] += (a[k][j] - a_emp[k])*(a[m][j] - a_emp[m])\n",
    "    cov_emp = (1/float(N))*cov_emp\n",
    "    return cov_emp\n",
    "\n",
    "def get_cov_theor(X):\n",
    "    A = np.dot(inv(np.dot(np.transpose(X), X)), np.transpose(X))\n",
    "    B = np.dot(X, inv(np.dot(np.transpose(X), X)))\n",
    "    return np.dot(A, B)"
   ]
  },
  {
   "cell_type": "code",
   "execution_count": 3,
   "metadata": {
    "collapsed": false
   },
   "outputs": [],
   "source": [
    "def compute_diff(N):\n",
    "    sample = generate(N)\n",
    "    cov_emp = get_cov_emp(sample, N)\n",
    "    cov = get_cov_theor(X)\n",
    "    diff = 0.25*np.sqrt(np.sum(((cov - cov_emp) ** 2)))\n",
    "    print \"cov_theorethical = \\n\", cov, '\\n', \"cov_emp = \\n\", cov_emp\n",
    "    print \"diff = \", diff"
   ]
  },
  {
   "cell_type": "code",
   "execution_count": 4,
   "metadata": {
    "collapsed": false
   },
   "outputs": [
    {
     "name": "stdout",
     "output_type": "stream",
     "text": [
      "cov_theorethical = \n",
      "[[ 1.  -0.5  0.   0. ]\n",
      " [-0.5  1.  -0.5  0. ]\n",
      " [ 0.  -0.5  1.  -0.5]\n",
      " [ 0.   0.  -0.5  0.5]] \n",
      "cov_emp = \n",
      "[[ 0.09615557 -0.06223864  0.25891526  0.40367194]\n",
      " [-0.06223864  0.04028522 -0.16758814 -0.26128484]\n",
      " [ 0.25891526 -0.16758814  0.69717347  1.08695551]\n",
      " [ 0.40367194 -0.26128484  1.08695551  1.69466041]]\n",
      "diff =  0.770330341066\n"
     ]
    }
   ],
   "source": [
    "compute_diff(20)"
   ]
  },
  {
   "cell_type": "code",
   "execution_count": 5,
   "metadata": {
    "collapsed": false
   },
   "outputs": [
    {
     "name": "stdout",
     "output_type": "stream",
     "text": [
      "cov_theorethical = \n",
      "[[ 1.  -0.5  0.   0. ]\n",
      " [-0.5  1.  -0.5  0. ]\n",
      " [ 0.  -0.5  1.  -0.5]\n",
      " [ 0.   0.  -0.5  0.5]] \n",
      "cov_emp = \n",
      "[[ 0.80200392  0.21677896 -2.03049034 -0.35577943]\n",
      " [ 0.21677896  0.05859462 -0.54883471 -0.09616598]\n",
      " [-2.03049034 -0.54883471  5.14073674  0.90075208]\n",
      " [-0.35577943 -0.09616598  0.90075208  0.15782841]]\n",
      "diff =  1.40672916363\n"
     ]
    }
   ],
   "source": [
    "compute_diff(100)"
   ]
  },
  {
   "cell_type": "markdown",
   "metadata": {},
   "source": [
    "**Задача 5**"
   ]
  },
  {
   "cell_type": "code",
   "execution_count": 6,
   "metadata": {
    "collapsed": true
   },
   "outputs": [],
   "source": [
    "from math import sqrt, pi\n",
    "import math"
   ]
  },
  {
   "cell_type": "code",
   "execution_count": 7,
   "metadata": {
    "collapsed": false
   },
   "outputs": [],
   "source": [
    "x5 = [5.17400200407734,\n",
    "0.556311535270427,\n",
    "3.17731053005427,\n",
    "0.0546816593553124,\n",
    "4.54801646798408,\n",
    "4.12139256615358,\n",
    "2.72211985322076,\n",
    "4.30172119075034,\n",
    "2.28333372270514,\n",
    "2.92268376591525,\n",
    "3.2465423524327,\n",
    "3.31055765014464,\n",
    "-0.362967011610333,\n",
    "2.16579005043661,\n",
    "-0.0298291246482598,\n",
    "2.04680352378683,\n",
    "3.68585890737455,\n",
    "-1.38481738091689,\n",
    "3.07000492063362,\n",
    "1.73973523463538]\n",
    "y5 = [2, 1, 2, 1, 2, 2, 2, 2, 2, 2, 2, 2, 1, 2, 1, 2, 2, 1, 2, 2]\n",
    "sigma1 = 1\n",
    "sigma2 = 1"
   ]
  },
  {
   "cell_type": "code",
   "execution_count": 8,
   "metadata": {
    "collapsed": false
   },
   "outputs": [],
   "source": [
    "eps = 10e-5\n",
    "\n",
    "x5_with_answers = [[5.17400200407734, 2],\n",
    "[0.556311535270427,  2],\n",
    "[3.17731053005427, 2],\n",
    "[0.0546816593553124, 2],\n",
    "[4.54801646798408, 2],\n",
    "[4.12139256615358, 2],\n",
    "[2.72211985322076, 2],\n",
    "[4.30172119075034, 2],\n",
    "[2.28333372270514, 2],\n",
    "[2.92268376591525, 2],\n",
    "[3.2465423524327, 2],\n",
    "[3.31055765014464, 2],\n",
    "[-0.362967011610333, 2],\n",
    "[2.16579005043661, 2],\n",
    "[-0.0298291246482598, 2],\n",
    "[2.04680352378683, 2],\n",
    "[3.68585890737455, 2],\n",
    "[-1.38481738091689, 1],\n",
    "[3.07000492063362, 2],\n",
    "[1.73973523463538, 2]]\n",
    "\n",
    "\n",
    "def estimate(sample):\n",
    "    first_class = [e[0] for e in x5_with_answers if e[1] == 1]\n",
    "    second_class = [e[0] for e in x5_with_answers if e[1] == 2]\n",
    "    a = len(first_class)\n",
    "    b = len(second_class)\n",
    "    p1 = a/float(a+b)\n",
    "    a1 = (1/float(a))*(sum(first_class))\n",
    "    a2 = (1/float(b))*(sum(second_class))\n",
    "    s1 = sqrt((1/float(a))*sum([(e - a1)*(e - a1) for e in first_class]))\n",
    "    s2 = sqrt((1/float(b))*sum([(e - a2)*(e - a2) for e in second_class]))\n",
    "    return p1, a1, a2, s1, s2\n",
    "\n",
    "def p(a, s, x):\n",
    "    return (1/sqrt(2*pi))*(math.e ** ((-(x - a) ** 2))/(2*s*s))\n",
    "\n",
    "def classificate(p1, a1, a2, s1, s2, x):\n",
    "    p_x_1 = p(a1, s1 + eps, x)\n",
    "    p_x_2 = p(a2, s2 + eps, x)\n",
    "    if (((p_x_1*p1)/(p_x_2*(1-p1))) > 1):\n",
    "        return 1\n",
    "    else:\n",
    "        return 2\n",
    "\n",
    "pr_p1, pr_a1, pr_a2, pr_s1, pr_s2 = 9999, 9999, 9999, 9999, 9999\n",
    "p1, a1, a2, s1, s2 = estimate(x5_with_answers)\n",
    "x5_with_answers = [[e[0], classificate(p1, a1, a2, s1, s2, e[0])] for e in x5_with_answers]\n",
    "while (abs(pr_a1 - a1) > 0.001 or abs(pr_a2 - a2) > 0.001):\n",
    "    pr_p1, pr_a1, pr_a2, pr_s1, pr_s2 = p1, a1, a2, s1, s2\n",
    "    p1, a1, a2, s1, s2 = estimate(x5_with_answers)\n",
    "    x5_with_answers = [[e[0], classificate(p1, a1, a2, s1, s2, e[0])] for e in x5_with_answers]\n",
    "\n",
    "estimation_with_method = p1, a1, a2, s1, s2"
   ]
  },
  {
   "cell_type": "code",
   "execution_count": 9,
   "metadata": {
    "collapsed": false
   },
   "outputs": [
    {
     "name": "stdout",
     "output_type": "stream",
     "text": [
      "[2, 1, 2, 1, 2, 2, 2, 2, 2, 2, 2, 2, 1, 2, 1, 2, 2, 1, 2, 2]\n",
      "[2, 1, 2, 1, 2, 2, 2, 2, 2, 2, 2, 2, 1, 2, 1, 2, 2, 1, 2, 2]\n"
     ]
    }
   ],
   "source": [
    "print y5\n",
    "print [e[1] for e in x5_with_answers]"
   ]
  },
  {
   "cell_type": "code",
   "execution_count": 10,
   "metadata": {
    "collapsed": true
   },
   "outputs": [],
   "source": [
    "sample_with_answers = [[x5[i], y5[i]] for i in range(len(x5))]\n",
    "estimation_with_answers = estimate(sample_with_answers)"
   ]
  },
  {
   "cell_type": "code",
   "execution_count": 11,
   "metadata": {
    "collapsed": false
   },
   "outputs": [
    {
     "name": "stdout",
     "output_type": "stream",
     "text": [
      "(0.25, -0.2333240645099487, 3.2343915160203394, 0.6466260154728866, 0.9558271256702938)\n",
      "(0.25, -0.2333240645099487, 3.2343915160203394, 0.6466260154728866, 0.9558271256702938)\n"
     ]
    }
   ],
   "source": [
    "print estimation_with_answers\n",
    "print estimation_with_method"
   ]
  }
 ],
 "metadata": {
  "kernelspec": {
   "display_name": "Python 2",
   "language": "python",
   "name": "python2"
  },
  "language_info": {
   "codemirror_mode": {
    "name": "ipython",
    "version": 2
   },
   "file_extension": ".py",
   "mimetype": "text/x-python",
   "name": "python",
   "nbconvert_exporter": "python",
   "pygments_lexer": "ipython2",
   "version": "2.7.12"
  }
 },
 "nbformat": 4,
 "nbformat_minor": 0
}
